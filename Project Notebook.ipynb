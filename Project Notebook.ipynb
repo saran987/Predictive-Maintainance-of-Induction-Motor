{
  "cells": [
    {
      "cell_type": "code",
      "execution_count": null,
      "metadata": {
        "application/vnd.databricks.v1+cell": {
          "inputWidgets": {},
          "nuid": "c129e7d7-7a90-4a88-8e08-3f243e4b5555",
          "showTitle": false,
          "title": ""
        },
        "id": "UdSR2QuKtYgx",
        "outputId": "0ab8c58f-1322-407e-a779-ac6ca0ce3017"
      },
      "outputs": [],
      "source": [
        "!pip install kaggle"
      ]
    },
    {
      "cell_type": "code",
      "execution_count": null,
      "metadata": {
        "application/vnd.databricks.v1+cell": {
          "inputWidgets": {},
          "nuid": "c4f76194-04ae-4191-8e9c-2be94dae8ebe",
          "showTitle": false,
          "title": ""
        },
        "id": "z9w3oxJdtYg0"
      },
      "outputs": [],
      "source": [
        "%sh\n",
        "mkdir /root/.kaggle"
      ]
    },
    {
      "cell_type": "code",
      "execution_count": null,
      "metadata": {
        "application/vnd.databricks.v1+cell": {
          "inputWidgets": {},
          "nuid": "7b0fbb89-4458-4a46-bd92-2f652b4f81dc",
          "showTitle": false,
          "title": ""
        },
        "id": "-6qEonjAtYg0"
      },
      "outputs": [],
      "source": [
        "%sh\n",
        "echo \"{\\\"username\\\":\\\"saran\\\", \\\"key\\\":\\\"0b82666877dae3f74d4a58f894a9dc4c\\\"}\" > /root/.kaggle/kaggle.json"
      ]
    },
    {
      "cell_type": "code",
      "execution_count": null,
      "metadata": {
        "application/vnd.databricks.v1+cell": {
          "inputWidgets": {},
          "nuid": "5227b903-fcbf-49ca-89bd-d3d1f5e2e01b",
          "showTitle": false,
          "title": ""
        },
        "id": "RLbaZwXotYg1",
        "outputId": "601f31ac-79b9-46f3-c421-e8b2c576de6e"
      },
      "outputs": [],
      "source": [
        "%sh\n",
        "ls /root/.kaggle\n",
        "cat /root/.kaggle/kaggle.json"
      ]
    },
    {
      "cell_type": "code",
      "execution_count": null,
      "metadata": {
        "application/vnd.databricks.v1+cell": {
          "inputWidgets": {},
          "nuid": "574f0934-a38b-4d6d-9dd8-ef26f539f598",
          "showTitle": false,
          "title": ""
        },
        "id": "F_4HOvPytYg1"
      },
      "outputs": [],
      "source": [
        "%sh\n",
        "mkdir -p /dbfs/tmp"
      ]
    },
    {
      "cell_type": "code",
      "execution_count": null,
      "metadata": {
        "application/vnd.databricks.v1+cell": {
          "inputWidgets": {},
          "nuid": "b59aa5e2-e88d-4347-9b13-093ef2e8f84c",
          "showTitle": false,
          "title": ""
        },
        "id": "uivdVaJftYg1"
      },
      "outputs": [],
      "source": [
        "%sh\n",
        "chmod 600 /root/.kaggle/kaggle.json"
      ]
    },
    {
      "cell_type": "code",
      "execution_count": null,
      "metadata": {
        "application/vnd.databricks.v1+cell": {
          "inputWidgets": {},
          "nuid": "dc3b645e-c487-4212-be97-7899e66cd555",
          "showTitle": false,
          "title": ""
        },
        "id": "JENJ9c42tYg2",
        "outputId": "aad8d514-0c95-4fd6-90d3-3a1a5a2bb592"
      },
      "outputs": [],
      "source": [
        "%sh\n",
        "cd /dbfs/tmp\n",
        "kaggle datasets download -d shikhapatel/predictive-maintenance"
      ]
    },
    {
      "cell_type": "code",
      "execution_count": null,
      "metadata": {
        "application/vnd.databricks.v1+cell": {
          "inputWidgets": {},
          "nuid": "2d851554-9c04-473d-ab6c-26c4e4dc0172",
          "showTitle": false,
          "title": ""
        },
        "id": "s5hIAuIhtYg2",
        "outputId": "243dc67c-218a-48d5-8ec6-460f7b6dcc14"
      },
      "outputs": [],
      "source": [
        "%sh\n",
        "ls /dbfs/tmp"
      ]
    },
    {
      "cell_type": "code",
      "execution_count": null,
      "metadata": {
        "application/vnd.databricks.v1+cell": {
          "inputWidgets": {},
          "nuid": "f293940b-3b0e-429f-9655-0c93b49a1247",
          "showTitle": false,
          "title": ""
        },
        "id": "1Z05_EKctYg3",
        "outputId": "eab958c3-55d5-4f69-f0cd-fbf6feb9958d"
      },
      "outputs": [],
      "source": [
        "%sh\n",
        "cd /dbfs/tmp\n",
        "unzip predictive-maintenance.zip"
      ]
    },
    {
      "cell_type": "code",
      "execution_count": null,
      "metadata": {
        "application/vnd.databricks.v1+cell": {
          "inputWidgets": {},
          "nuid": "3c11987f-e745-4e74-adad-d1fb64d61058",
          "showTitle": false,
          "title": ""
        },
        "id": "iYbIVTVptYg3",
        "outputId": "75123c02-022c-40c4-d20b-45ac0b811239"
      },
      "outputs": [],
      "source": [
        "file_dir = \"/data\"\n",
        "file_dir_path1 = f\"{file_dir}/Final_dataframes/df_r1b_t5.csv\"\n",
        "dbutils.fs.cp(\"file:/dbfs/tmp/Final_dataframes/df_r1b_t5.csv\", file_dir_path1)"
      ]
    },
    {
      "cell_type": "code",
      "execution_count": null,
      "metadata": {
        "application/vnd.databricks.v1+cell": {
          "inputWidgets": {},
          "nuid": "a2456144-7c4c-4d0d-aa45-247f6faff0ab",
          "showTitle": false,
          "title": ""
        },
        "id": "xGoIsMCItYg4",
        "outputId": "a1df1065-17e5-4a5d-b20e-ca82cf76b802"
      },
      "outputs": [],
      "source": [
        "file_dir = \"/data\"\n",
        "file_dir_path2 = f\"{file_dir}/Final_dataframes/df_r2b_t5.csv\"\n",
        "dbutils.fs.cp(\"file:/dbfs/tmp/Final_dataframes/df_r2b_t5.csv\", file_dir_path2)"
      ]
    },
    {
      "cell_type": "code",
      "execution_count": null,
      "metadata": {
        "application/vnd.databricks.v1+cell": {
          "inputWidgets": {},
          "nuid": "9bfabe74-fdc5-41fd-bcb4-79bea9393af3",
          "showTitle": false,
          "title": ""
        },
        "id": "SNua2TRvtYg4",
        "outputId": "70829de5-d351-4caa-c67d-7fef28c3c5cd"
      },
      "outputs": [],
      "source": [
        "file_dir = \"/data\"\n",
        "file_dir_path3 = f\"{file_dir}/Final_dataframes/df_r3b_t5.csv\"\n",
        "dbutils.fs.cp(\"file:/dbfs/tmp/Final_dataframes/df_r3b_t5.csv\", file_dir_path3)"
      ]
    },
    {
      "cell_type": "code",
      "execution_count": null,
      "metadata": {
        "application/vnd.databricks.v1+cell": {
          "inputWidgets": {},
          "nuid": "a8591267-687f-4e29-96ba-f6fe61f4d268",
          "showTitle": false,
          "title": ""
        },
        "id": "T1XJG2SXtYg5",
        "outputId": "b6cf16cd-7896-45dd-cc40-28eddf10a377"
      },
      "outputs": [],
      "source": [
        "file_dir = \"/data\"\n",
        "file_dir_path4 = f\"{file_dir}/Final_dataframes/df_r4b_t5.csv\"\n",
        "dbutils.fs.cp(\"file:/dbfs/tmp/Final_dataframes/df_r4b_t5.csv\", file_dir_path4)"
      ]
    },
    {
      "cell_type": "code",
      "execution_count": null,
      "metadata": {
        "application/vnd.databricks.v1+cell": {
          "inputWidgets": {},
          "nuid": "339cae85-2b3a-45fd-97d1-61681eb49dff",
          "showTitle": false,
          "title": ""
        },
        "id": "xWZlBliPtYg5",
        "outputId": "eba1c4d8-c1c5-4bf3-f9bf-4aa5025bcad0"
      },
      "outputs": [],
      "source": [
        "file_dir = \"/data\"\n",
        "file_dir_path5 = f\"{file_dir}/Final_dataframes/df_rs_t5.csv\"\n",
        "dbutils.fs.cp(\"file:/dbfs/tmp/Final_dataframes/df_rs_t5.csv\", file_dir_path5)"
      ]
    },
    {
      "cell_type": "code",
      "execution_count": null,
      "metadata": {
        "application/vnd.databricks.v1+cell": {
          "inputWidgets": {},
          "nuid": "85d907cc-c5b7-46b3-9491-da98d306abdd",
          "showTitle": false,
          "title": ""
        },
        "id": "uMmmVqkJtYg6"
      },
      "outputs": [],
      "source": [
        "df_r1b_t5 = spark.read.csv(file_dir_path1, header=True)\n",
        "df_r2b_t5 = spark.read.csv(file_dir_path2, header=True)\n",
        "df_r3b_t5 = spark.read.csv(file_dir_path3, header=True)\n",
        "df_r4b_t5 = spark.read.csv(file_dir_path4, header=True)\n",
        "df_rs_t5 = spark.read.csv(file_dir_path5, header=True)\n"
      ]
    },
    {
      "cell_type": "code",
      "execution_count": null,
      "metadata": {
        "application/vnd.databricks.v1+cell": {
          "inputWidgets": {},
          "nuid": "2494e181-fdcf-4389-8706-2b1c07f819e7",
          "showTitle": false,
          "title": ""
        },
        "id": "PvkDvjJ5tYg6",
        "outputId": "740f8db7-1704-4932-f064-8139114ccc39"
      },
      "outputs": [],
      "source": [
        "display(df_r1b_t5)"
      ]
    },
    {
      "cell_type": "code",
      "execution_count": null,
      "metadata": {
        "application/vnd.databricks.v1+cell": {
          "inputWidgets": {},
          "nuid": "9c557ecc-ef01-40a2-97ea-f4e97eb5203a",
          "showTitle": false,
          "title": ""
        },
        "id": "z-N4xge4tYg6",
        "outputId": "74842811-fcce-4444-ac5b-97dae0f81893"
      },
      "outputs": [],
      "source": [
        "display(df_r2b_t5)"
      ]
    },
    {
      "cell_type": "code",
      "execution_count": null,
      "metadata": {
        "application/vnd.databricks.v1+cell": {
          "inputWidgets": {},
          "nuid": "3470f2fb-c029-4603-802c-b1aeea6387d5",
          "showTitle": false,
          "title": ""
        },
        "id": "iGgrGRPFtYg7",
        "outputId": "3946f896-6127-4d0f-b6a8-f894862d4413"
      },
      "outputs": [],
      "source": [
        "display(df_r3b_t5)"
      ]
    },
    {
      "cell_type": "code",
      "execution_count": null,
      "metadata": {
        "application/vnd.databricks.v1+cell": {
          "inputWidgets": {},
          "nuid": "fd5568be-e75b-4cc4-8ba0-f4707d6031a9",
          "showTitle": false,
          "title": ""
        },
        "id": "4tRERPkxtYg7",
        "outputId": "4c8cd467-b5ea-48b2-df16-553575a86189"
      },
      "outputs": [],
      "source": [
        "display(df_r4b_t5)"
      ]
    },
    {
      "cell_type": "code",
      "execution_count": null,
      "metadata": {
        "application/vnd.databricks.v1+cell": {
          "inputWidgets": {},
          "nuid": "10265af1-5c34-4d30-bce2-734eef5eaefc",
          "showTitle": false,
          "title": ""
        },
        "id": "gjeejR-XtYg7",
        "outputId": "3ad83e3a-8000-4444-f026-627ae153fbb7"
      },
      "outputs": [],
      "source": [
        "display(df_rs_t5)"
      ]
    },
    {
      "cell_type": "code",
      "execution_count": null,
      "metadata": {
        "application/vnd.databricks.v1+cell": {
          "inputWidgets": {},
          "nuid": "671c0453-6893-4dd4-a961-32e8c2b85253",
          "showTitle": false,
          "title": ""
        },
        "id": "ncL3H2-ltYg7",
        "outputId": "2f48da40-3327-4a92-a88d-54ae4c1a1fbd"
      },
      "outputs": [],
      "source": [
        "display(df_rs_t5.summary())\n",
        "display(df_r1b_t5.summary())\n",
        "display(df_r2b_t5.summary())\n",
        "display(df_r3b_t5.summary())\n",
        "display(df_r4b_t5.summary())"
      ]
    },
    {
      "cell_type": "code",
      "execution_count": null,
      "metadata": {
        "application/vnd.databricks.v1+cell": {
          "inputWidgets": {},
          "nuid": "6087681a-278b-4bcc-9bff-e3e42445a306",
          "showTitle": false,
          "title": ""
        },
        "id": "KHdg5K84tYg8"
      },
      "outputs": [],
      "source": [
        "from pyspark.sql.functions import lit\n",
        "from functools import reduce\n",
        "from pyspark.sql import DataFrame\n",
        "import pyspark.sql.functions \n",
        "from pyspark.ml.feature import VectorAssembler\n",
        "from pyspark.ml.feature import StringIndexer\n",
        "from pyspark.ml.classification import RandomForestClassifier\n",
        "import seaborn as sns\n",
        "import pandas as pd\n",
        "from pyspark.ml.evaluation import MulticlassClassificationEvaluator\n",
        "from pyspark.ml.classification import DecisionTreeClassifier\n",
        "from pyspark.ml import Pipeline\n",
        "from pyspark.ml.tuning import CrossValidator, ParamGridBuilder\n",
        "from pyspark.ml.classification import MultilayerPerceptronClassifier\n",
        "import matplotlib.pyplot as plt"
      ]
    },
    {
      "cell_type": "markdown",
      "metadata": {
        "application/vnd.databricks.v1+cell": {
          "inputWidgets": {},
          "nuid": "735313e8-6fab-478e-bbef-adf6b3b8601b",
          "showTitle": false,
          "title": ""
        },
        "id": "aZkUNzVhtYg8"
      },
      "source": [
        "Creating new column 'Status' for each dataset depending on their working status"
      ]
    },
    {
      "cell_type": "code",
      "execution_count": null,
      "metadata": {
        "application/vnd.databricks.v1+cell": {
          "inputWidgets": {},
          "nuid": "cb69c0bd-af5f-4861-af98-2156e68008f1",
          "showTitle": false,
          "title": ""
        },
        "id": "8q_Bo2MMtYg9"
      },
      "outputs": [],
      "source": [
        "value = 'good'\n",
        "df_rs_t5 = df_rs_t5.withColumn(\"Status\", lit(value))"
      ]
    },
    {
      "cell_type": "code",
      "execution_count": null,
      "metadata": {
        "application/vnd.databricks.v1+cell": {
          "inputWidgets": {},
          "nuid": "e2fef4d1-42af-491b-8c54-ccc30d922f06",
          "showTitle": false,
          "title": ""
        },
        "id": "wXHYwD4OtYg9"
      },
      "outputs": [],
      "source": [
        "value = 'One_bar_broken'\n",
        "df_r1b_t5 = df_r1b_t5.withColumn(\"Status\", lit(value))"
      ]
    },
    {
      "cell_type": "code",
      "execution_count": null,
      "metadata": {
        "application/vnd.databricks.v1+cell": {
          "inputWidgets": {},
          "nuid": "aff5a50c-7343-4069-becd-ebfa845ce452",
          "showTitle": false,
          "title": ""
        },
        "id": "RoFG0bRwtYg-"
      },
      "outputs": [],
      "source": [
        "value = 'two_bars_broken'\n",
        "df_r2b_t5 = df_r2b_t5.withColumn(\"Status\", lit(value))"
      ]
    },
    {
      "cell_type": "code",
      "execution_count": null,
      "metadata": {
        "application/vnd.databricks.v1+cell": {
          "inputWidgets": {},
          "nuid": "2e727b26-4f7d-40a8-9ee3-b79174aeb608",
          "showTitle": false,
          "title": ""
        },
        "id": "Ja2hKbVUtYg-"
      },
      "outputs": [],
      "source": [
        "value = 'three_bars_broken'\n",
        "df_r3b_t5 = df_r3b_t5.withColumn(\"Status\", lit(value))"
      ]
    },
    {
      "cell_type": "code",
      "execution_count": null,
      "metadata": {
        "application/vnd.databricks.v1+cell": {
          "inputWidgets": {},
          "nuid": "3542ca02-d155-44da-a318-51d431a4b77e",
          "showTitle": false,
          "title": ""
        },
        "id": "aTF8k_B7tYg-"
      },
      "outputs": [],
      "source": [
        "value = 'four_bars_broken'\n",
        "df_r4b_t5 = df_r4b_t5.withColumn(\"Status\", lit(value))"
      ]
    },
    {
      "cell_type": "code",
      "execution_count": null,
      "metadata": {
        "application/vnd.databricks.v1+cell": {
          "inputWidgets": {},
          "nuid": "5d69bed6-014b-48f3-8657-0a8c93374301",
          "showTitle": false,
          "title": ""
        },
        "id": "d0fN7bewtYg-"
      },
      "outputs": [],
      "source": [
        "dfs = [df_rs_t5, df_r1b_t5, df_r2b_t5, df_r3b_t5, df_r4b_t5]\n",
        "df = reduce(DataFrame.unionAll, dfs)"
      ]
    },
    {
      "cell_type": "code",
      "execution_count": null,
      "metadata": {
        "application/vnd.databricks.v1+cell": {
          "inputWidgets": {},
          "nuid": "addf2ac8-b544-4781-b83f-2c00b7e3d332",
          "showTitle": false,
          "title": ""
        },
        "id": "Mtl18RtNtYg_",
        "outputId": "f79f87aa-ef0d-499e-8c2a-1d960d1dce0c"
      },
      "outputs": [],
      "source": [
        "display(df)"
      ]
    },
    {
      "cell_type": "code",
      "execution_count": null,
      "metadata": {
        "application/vnd.databricks.v1+cell": {
          "inputWidgets": {},
          "nuid": "675cda91-05dc-4e6f-afff-7f8dc7b5e7a6",
          "showTitle": false,
          "title": ""
        },
        "id": "atYamPOctYg_",
        "outputId": "80721ff1-df00-4232-eae4-6c1f274d3415"
      },
      "outputs": [],
      "source": [
        "df.printSchema()"
      ]
    },
    {
      "cell_type": "code",
      "execution_count": null,
      "metadata": {
        "application/vnd.databricks.v1+cell": {
          "inputWidgets": {},
          "nuid": "b9d676e1-6928-4f95-a9ea-2fe5b3cc5d69",
          "showTitle": false,
          "title": ""
        },
        "id": "O5plk6zPtYg_"
      },
      "outputs": [],
      "source": [
        "# Converting the string data types to float for the below columns\n",
        "\n",
        "df = df.withColumn(\"Ia\", df[\"Ia\"].cast(\"float\"))\n",
        "df = df.withColumn(\"Ib\", df[\"Ib\"].cast(\"float\"))\n",
        "df = df.withColumn(\"Ic\", df[\"Ic\"].cast(\"float\"))\n",
        "df = df.withColumn(\"Va\", df[\"Va\"].cast(\"float\"))\n",
        "df = df.withColumn(\"Vb\", df[\"Vb\"].cast(\"float\"))\n",
        "df = df.withColumn(\"Vc\", df[\"Vc\"].cast(\"float\"))\n",
        "df = df.withColumn(\"Trig\", df[\"Trig\"].cast(\"float\"))\n",
        "df = df.withColumn(\"Vib_acpe\", df[\"Vib_acpe\"].cast(\"float\"))\n",
        "df = df.withColumn(\"Vib_carc\", df[\"Vib_carc\"].cast(\"float\"))\n",
        "df = df.withColumn(\"Vib_acpi\", df[\"Vib_acpi\"].cast(\"float\"))\n",
        "df = df.withColumn(\"Vib_axial\", df[\"Vib_axial\"].cast(\"float\"))\n",
        "df = df.withColumn(\"Vib_base\", df[\"Vib_base\"].cast(\"float\"))"
      ]
    },
    {
      "cell_type": "code",
      "execution_count": null,
      "metadata": {
        "application/vnd.databricks.v1+cell": {
          "inputWidgets": {},
          "nuid": "6cf217f7-5866-41b3-a236-6d1353a94a6c",
          "showTitle": false,
          "title": ""
        },
        "id": "ez5U9lwPtYg_",
        "outputId": "4b40fc4b-9d89-4285-bb68-22a9e09fdcd5"
      },
      "outputs": [],
      "source": [
        "df.printSchema()"
      ]
    },
    {
      "cell_type": "code",
      "execution_count": null,
      "metadata": {
        "application/vnd.databricks.v1+cell": {
          "inputWidgets": {},
          "nuid": "e7763855-732b-4072-a772-045e5c1110f8",
          "showTitle": false,
          "title": ""
        },
        "id": "B2lDkX-utYg_",
        "outputId": "b9904bb6-87ff-417e-b748-b3603022886b"
      },
      "outputs": [],
      "source": [
        "df2 = df.groupBy(\"Status\").count()\n",
        "display(df2)"
      ]
    },
    {
      "cell_type": "markdown",
      "metadata": {
        "application/vnd.databricks.v1+cell": {
          "inputWidgets": {},
          "nuid": "34e17506-434b-4cff-b526-69836ba74132",
          "showTitle": false,
          "title": ""
        },
        "id": "0_rJQ3MTtYg_"
      },
      "source": [
        "Vactor Assembler for numeric columns"
      ]
    },
    {
      "cell_type": "code",
      "execution_count": null,
      "metadata": {
        "application/vnd.databricks.v1+cell": {
          "inputWidgets": {},
          "nuid": "d710ed1f-d3db-430c-8e2e-68b1263fac5c",
          "showTitle": false,
          "title": ""
        },
        "id": "5DjVrlgHtYhA",
        "outputId": "217b5800-fe3d-453a-e08e-7020ebcc0bee"
      },
      "outputs": [],
      "source": [
        "numericCols = [ 'Ia', 'Ib', 'Ic', 'Va', 'Vb', 'Vc', 'Trig', 'Vib_acpe', 'Vib_carc', 'Vib_acpi', 'Vib_axial', 'Vib_base']\n",
        "assembler = VectorAssembler(inputCols=numericCols, outputCol=\"features\")\n",
        "df = assembler.transform(df)\n",
        "display(df)"
      ]
    },
    {
      "cell_type": "markdown",
      "metadata": {
        "application/vnd.databricks.v1+cell": {
          "inputWidgets": {},
          "nuid": "998ff581-f05f-4ced-b314-94e796de2390",
          "showTitle": false,
          "title": ""
        },
        "id": "ub9Gv-7ZtYhA"
      },
      "source": [
        "String Indexer for category Values"
      ]
    },
    {
      "cell_type": "code",
      "execution_count": null,
      "metadata": {
        "application/vnd.databricks.v1+cell": {
          "inputWidgets": {},
          "nuid": "c203381b-0f42-4980-a6a2-907e4b6c8dc4",
          "showTitle": false,
          "title": ""
        },
        "id": "bXXPY6XXtYhA",
        "outputId": "a4e9fd0f-caac-468a-b405-af61b91cba0b"
      },
      "outputs": [],
      "source": [
        "label_stringIdx = StringIndexer(inputCol = 'Status', outputCol = 'labelIndex')\n",
        "df = label_stringIdx.fit(df).transform(df)\n",
        "display(df)"
      ]
    },
    {
      "cell_type": "markdown",
      "metadata": {
        "application/vnd.databricks.v1+cell": {
          "inputWidgets": {},
          "nuid": "cf1586ae-92b6-4780-b05f-914628b04890",
          "showTitle": false,
          "title": ""
        },
        "id": "ARI1n2l3tYhA"
      },
      "source": [
        "Dividing data into training and testing"
      ]
    },
    {
      "cell_type": "code",
      "execution_count": null,
      "metadata": {
        "application/vnd.databricks.v1+cell": {
          "inputWidgets": {},
          "nuid": "b896090d-c89c-4bcc-8a1f-35bfa7235e76",
          "showTitle": false,
          "title": ""
        },
        "id": "z725o2K3tYhA",
        "outputId": "c7bc7971-c761-4dc4-d004-f493ac4b621e"
      },
      "outputs": [],
      "source": [
        "train, test = df.randomSplit([0.7, 0.3], seed = 2021)\n",
        "print(\"Training Dataset Count: \" + str(train.count()))\n",
        "print(\"Test Dataset Count: \" + str(test.count()))"
      ]
    },
    {
      "cell_type": "markdown",
      "metadata": {
        "application/vnd.databricks.v1+cell": {
          "inputWidgets": {},
          "nuid": "54b855d8-ff31-4578-82c9-722bc63fbc73",
          "showTitle": false,
          "title": ""
        },
        "id": "VJdG8bMWtYhA"
      },
      "source": [
        "Random Forest Classification Model"
      ]
    },
    {
      "cell_type": "code",
      "execution_count": null,
      "metadata": {
        "application/vnd.databricks.v1+cell": {
          "inputWidgets": {},
          "nuid": "7c8cd18d-00be-427d-9dab-dca9a3eb3a95",
          "showTitle": false,
          "title": ""
        },
        "id": "3qVZ5-gmtYhA",
        "outputId": "78228ca9-cdd6-43f3-c267-057caa4f4f88"
      },
      "outputs": [],
      "source": [
        "# Intializing Model \n",
        "rf = RandomForestClassifier(featuresCol ='features', labelCol ='labelIndex', numTrees=5)\n",
        "\n",
        "# Traning\n",
        "rfModel = rf.fit(train)\n",
        "\n",
        "# Tesitng\n",
        "predictions = rfModel.transform(test)\n",
        "\n",
        "display(predictions)\n"
      ]
    },
    {
      "cell_type": "code",
      "execution_count": null,
      "metadata": {
        "application/vnd.databricks.v1+cell": {
          "inputWidgets": {},
          "nuid": "9a797a37-cd01-4c63-9bc9-373fbfca6418",
          "showTitle": false,
          "title": ""
        },
        "id": "PyZ1FCpitYhA",
        "outputId": "a45c74f7-65b5-4977-bd9a-cbff822d8aef"
      },
      "outputs": [],
      "source": [
        "# Comparing predictions with actual values\n",
        "\n",
        "df_predict = predictions.select('labelIndex','prediction')\n",
        "pdf = df_predict.toPandas()\n",
        "display(pdf)"
      ]
    },
    {
      "cell_type": "code",
      "execution_count": null,
      "metadata": {
        "application/vnd.databricks.v1+cell": {
          "inputWidgets": {},
          "nuid": "8faa4e0a-c41e-40f1-a0c0-0f205a5d162f",
          "showTitle": false,
          "title": ""
        },
        "id": "Iq_LRDY6tYhB"
      },
      "outputs": [],
      "source": [
        "#Preparing Data for plotting values\n",
        "\n",
        "data1 = predictions.groupby(\"labelIndex\").count()\n",
        "data1 = data1.toPandas()\n",
        "data1 = data1.sort_values(by='labelIndex')\n",
        "data2 = predictions.groupby(\"prediction\").count()\n",
        "data2 = data2.toPandas()\n",
        "data2 = data2.sort_values(by='prediction')"
      ]
    },
    {
      "cell_type": "markdown",
      "metadata": {
        "application/vnd.databricks.v1+cell": {
          "inputWidgets": {},
          "nuid": "f4dc0f27-a12c-4d55-8cf5-b60d43fefbc4",
          "showTitle": false,
          "title": ""
        },
        "id": "g9w7sR5KtYhB"
      },
      "source": [
        "Graph of Actual Vs Predicted values derived from Random Forest Classifier"
      ]
    },
    {
      "cell_type": "code",
      "execution_count": null,
      "metadata": {
        "application/vnd.databricks.v1+cell": {
          "inputWidgets": {},
          "nuid": "e338f905-1f9e-4b5e-b3e7-3f3e938615ae",
          "showTitle": false,
          "title": ""
        },
        "id": "ZzLclX3ttYhB",
        "outputId": "55986c55-0f42-4c28-d140-ac9bf7f4e35e"
      },
      "outputs": [],
      "source": [
        "# Plotting Actual and Prediction results\n",
        "\n",
        "myexplode = [0.0, 0.02, 0.03, 0.0, 0.0]\n",
        "colors = ['#B99095','#FCB5AC','#B5E5CF','#3D5B59', '#29A0B1']\n",
        "labels = ['Good', 'One_bar_broken', 'Two_bar_broken', 'Three_bar_broken', 'Four_bar_broken']\n",
        "fig, (ax1,ax2) = plt.subplots(1,2,figsize=(10,5))\n",
        "ax1.pie(x=data1['count'], autopct=\"%.1f%%\", pctdistance=0.5, startangle = 90, explode=myexplode, colors= colors, radius =1.2)\n",
        "ax1.set_title('Actual')\n",
        "ax2.pie(x=data2['count'], autopct=\"%.1f%%\", pctdistance=0.5, startangle = 90, explode=myexplode, colors= colors, radius=1.2)\n",
        "ax2.set_title('Predicted')\n",
        "fig.legend(labels=labels, loc='lower center', ncol=5)\n",
        "plt.show() #show all figures\n"
      ]
    },
    {
      "cell_type": "code",
      "execution_count": null,
      "metadata": {
        "application/vnd.databricks.v1+cell": {
          "inputWidgets": {},
          "nuid": "2c7fcdd5-7859-478c-9fdf-34d0484a1ab9",
          "showTitle": false,
          "title": ""
        },
        "id": "e1Bqaut3tYhB",
        "outputId": "247ea3f8-d50a-4614-847b-9ae8f3721ca4"
      },
      "outputs": [],
      "source": [
        "# Calculating Accuracy for Random Forest Classifier\n",
        "\n",
        "evaluator = MulticlassClassificationEvaluator(labelCol=\"labelIndex\", predictionCol=\"prediction\")\n",
        "accuracy = evaluator.evaluate(predictions)\n",
        "print(\"Accuracy = %s\" % (accuracy))\n",
        "print(\"Test Error = %s\" % (1.0 - accuracy))"
      ]
    },
    {
      "cell_type": "markdown",
      "metadata": {
        "application/vnd.databricks.v1+cell": {
          "inputWidgets": {},
          "nuid": "2463db5d-6d45-4bff-b4d1-eb3267968085",
          "showTitle": false,
          "title": ""
        },
        "id": "wnPXXlSNtYhB"
      },
      "source": [
        "Decision Tree Classification Model"
      ]
    },
    {
      "cell_type": "code",
      "execution_count": null,
      "metadata": {
        "application/vnd.databricks.v1+cell": {
          "inputWidgets": {},
          "nuid": "aa7bf4ce-131d-4314-b83a-720a9ae8182b",
          "showTitle": false,
          "title": ""
        },
        "id": "Z9zDnWFntYhB",
        "outputId": "f60eedce-ecc0-4166-d32d-e23606cacf28"
      },
      "outputs": [],
      "source": [
        "# Model Inialization\n",
        "dt = DecisionTreeClassifier(featuresCol = 'features', labelCol = 'labelIndex', maxDepth = 10)\n",
        "\n",
        "# Training\n",
        "dtModel = dt.fit(train)\n",
        "\n",
        "# Testing \n",
        "dt_predictions = dtModel.transform(test)\n",
        "\n",
        "display(dt_predictions)"
      ]
    },
    {
      "cell_type": "code",
      "execution_count": null,
      "metadata": {
        "application/vnd.databricks.v1+cell": {
          "inputWidgets": {},
          "nuid": "f6f795c0-2ff4-4d61-a302-f48e4e170447",
          "showTitle": false,
          "title": ""
        },
        "id": "SmsPUNeWtYhB",
        "outputId": "dd7cb29c-d060-4017-b396-8d4c67122df7"
      },
      "outputs": [],
      "source": [
        "# Calculating Accuracy for Decision Tree Classification Model\n",
        "\n",
        "evaluator = MulticlassClassificationEvaluator(labelCol=\"labelIndex\", predictionCol=\"prediction\")\n",
        "accuracy = evaluator.evaluate(dt_predictions)\n",
        "print(\"Accuracy = %s\" % (accuracy))\n",
        "print(\"Test Error = %s\" % (1.0 - accuracy))\n"
      ]
    },
    {
      "cell_type": "code",
      "execution_count": null,
      "metadata": {
        "application/vnd.databricks.v1+cell": {
          "inputWidgets": {},
          "nuid": "79a3343c-4d2f-4e4f-ba90-0b916c80532d",
          "showTitle": false,
          "title": ""
        },
        "id": "8qJx9RnatYhB",
        "outputId": "0a8a41aa-4199-4093-b781-cc75219d2a5f"
      },
      "outputs": [],
      "source": [
        "df_predict1 = dt_predictions.select('labelIndex','prediction')\n",
        "pdf1 = df_predict1.toPandas()\n",
        "display(pdf1)\n"
      ]
    },
    {
      "cell_type": "code",
      "execution_count": null,
      "metadata": {
        "application/vnd.databricks.v1+cell": {
          "inputWidgets": {},
          "nuid": "17a3d8a6-e891-4506-93f7-6ce39bd30069",
          "showTitle": false,
          "title": ""
        },
        "id": "VqBllqIBtYhB"
      },
      "outputs": [],
      "source": [
        "#Preparing Data for plotting values\n",
        "\n",
        "data1 = dt_predictions.groupby(\"labelIndex\").count()\n",
        "data1 = data1.toPandas()\n",
        "data1 = data1.sort_values(by='labelIndex')\n",
        "data2 = dt_predictions.groupby(\"prediction\").count()\n",
        "data2 = data2.toPandas()\n",
        "data2 = data2.sort_values(by='prediction')"
      ]
    },
    {
      "cell_type": "markdown",
      "metadata": {
        "application/vnd.databricks.v1+cell": {
          "inputWidgets": {},
          "nuid": "ee6a9c46-dba5-480d-abd8-c6ae9899b99a",
          "showTitle": false,
          "title": ""
        },
        "id": "h5AJfa59tYhC"
      },
      "source": [
        "Graph of Actual Vs Predicted values derived from Decision Tree Classifier"
      ]
    },
    {
      "cell_type": "code",
      "execution_count": null,
      "metadata": {
        "application/vnd.databricks.v1+cell": {
          "inputWidgets": {},
          "nuid": "3d11b9fc-f7c1-42f7-b98c-fa8cf94f11c0",
          "showTitle": false,
          "title": ""
        },
        "id": "xrwpXgahtYhC",
        "outputId": "ff95b215-2499-4662-cd20-4be1f21b5cc8"
      },
      "outputs": [],
      "source": [
        "# Plotting Actual and Prediction results\n",
        "\n",
        "myexplode = [0.0, 0.02, 0.03, 0.0, 0.0]\n",
        "colors = ['#B99095','#FCB5AC','#B5E5CF','#3D5B59', '#29A0B1']\n",
        "labels = ['Good', 'One_bar_broken', 'Two_bar_broken', 'Three_bar_broken', 'Four_bar_broken']\n",
        "fig, (ax1,ax2) = plt.subplots(1,2,figsize=(10,5))\n",
        "ax1.pie(x=data1['count'], autopct=\"%.1f%%\", pctdistance=0.5, startangle = 90, explode=myexplode, colors= colors, radius =1.2)\n",
        "ax1.set_title('Actual')\n",
        "ax2.pie(x=data2['count'], autopct=\"%.1f%%\", pctdistance=0.5, startangle = 90, explode=myexplode, colors= colors, radius=1.2)\n",
        "ax2.set_title('Predicted')\n",
        "fig.legend(labels=labels, loc='lower center', ncol=5)\n",
        "plt.show() #show all figures"
      ]
    },
    {
      "cell_type": "markdown",
      "metadata": {
        "application/vnd.databricks.v1+cell": {
          "inputWidgets": {},
          "nuid": "ade03279-0c45-4818-aa93-6dea64c43226",
          "showTitle": false,
          "title": ""
        },
        "id": "JuR1DVrWtYhC"
      },
      "source": [
        "Cross validation to improve Random Forest Results"
      ]
    },
    {
      "cell_type": "code",
      "execution_count": null,
      "metadata": {
        "application/vnd.databricks.v1+cell": {
          "inputWidgets": {},
          "nuid": "1920e172-8ba4-4123-a125-49a04f338427",
          "showTitle": false,
          "title": ""
        },
        "id": "QJScdZJitYhC",
        "outputId": "631f4980-faee-471f-c594-fccf516178c9"
      },
      "outputs": [],
      "source": [
        "# Creating a multiclass evaluator\n",
        "evaluator1 = MulticlassClassificationEvaluator(labelCol=\"labelIndex\", predictionCol=\"prediction\")\n",
        "\n",
        "#building a parameter grid wwith 2 grids\n",
        "paramGrid = (ParamGridBuilder()\n",
        "            .addGrid(rf.maxDepth, [2, 4, 6])\n",
        "            .addGrid(rf.numTrees, [10, 100])\n",
        "            .build())\n",
        "\n",
        "#Intinalizing cross validator\n",
        "cv = CrossValidator(estimator=rf, \n",
        "                    evaluator=evaluator1, \n",
        "                    estimatorParamMaps=paramGrid, \n",
        "                    numFolds=3, \n",
        "                    parallelism=25, \n",
        "                    seed=42)\n",
        "\n",
        "# Creating Pipeline with stages\n",
        "pipeline1 = Pipeline(stages=[cv])\n",
        "pipelineModel = pipeline1.fit(train)\n",
        "predDF = pipelineModel.transform(test)"
      ]
    },
    {
      "cell_type": "code",
      "execution_count": null,
      "metadata": {
        "application/vnd.databricks.v1+cell": {
          "inputWidgets": {},
          "nuid": "173a5438-443c-4d57-8dbf-d3bef6a8f707",
          "showTitle": false,
          "title": ""
        },
        "id": "Ir6Q8b7LtYhC",
        "outputId": "722cc4a0-d775-4a08-baa5-5d0e9516168d"
      },
      "outputs": [],
      "source": [
        "# Evaluating Accuracy\n",
        "\n",
        "evaluator = MulticlassClassificationEvaluator(labelCol=\"labelIndex\", predictionCol=\"prediction\")\n",
        "accuracy = evaluator.evaluate(predDF)\n",
        "print(\"Accuracy = %s\" % (accuracy))\n",
        "print(\"Test Error = %s\" % (1.0 - accuracy))"
      ]
    },
    {
      "cell_type": "code",
      "execution_count": null,
      "metadata": {
        "application/vnd.databricks.v1+cell": {
          "inputWidgets": {},
          "nuid": "64a8aeea-4496-4254-abe1-4679a40ad097",
          "showTitle": false,
          "title": ""
        },
        "id": "kxLwxnQbtYhC",
        "outputId": "1b90a94c-e4eb-4cc9-b436-239be965416d"
      },
      "outputs": [],
      "source": [
        "cv_predictions = predDF.select('labelIndex','prediction')\n",
        "cv_pdf = cv_predictions.toPandas()\n",
        "display(cv_pdf)"
      ]
    },
    {
      "cell_type": "code",
      "execution_count": null,
      "metadata": {
        "application/vnd.databricks.v1+cell": {
          "inputWidgets": {},
          "nuid": "8110876e-845d-4380-a71e-be87b1d90ca9",
          "showTitle": false,
          "title": ""
        },
        "id": "t7YygInqtYhC"
      },
      "outputs": [],
      "source": [
        "#Preparing Data for plotting values\n",
        "\n",
        "data1 = predDF.groupby(\"labelIndex\").count()\n",
        "data1 = data1.toPandas()\n",
        "data1 = data1.sort_values(by='labelIndex')\n",
        "data2 = predDF.groupby(\"prediction\").count()\n",
        "data2 = data2.toPandas()\n",
        "data2 = data2.sort_values(by='prediction')"
      ]
    },
    {
      "cell_type": "markdown",
      "metadata": {
        "application/vnd.databricks.v1+cell": {
          "inputWidgets": {},
          "nuid": "e53de5f7-d525-4b05-8b26-fe9556b78bda",
          "showTitle": false,
          "title": ""
        },
        "id": "tpShnmhotYhC"
      },
      "source": [
        "Graph of Actual Vs Predicted values derived from Cross Validation"
      ]
    },
    {
      "cell_type": "code",
      "execution_count": null,
      "metadata": {
        "application/vnd.databricks.v1+cell": {
          "inputWidgets": {},
          "nuid": "251dae14-a44f-4902-b901-02611bd96d06",
          "showTitle": false,
          "title": ""
        },
        "id": "VTwgZ2pCtYhC",
        "outputId": "62c13497-d882-4a0e-c951-88f075ef0e09"
      },
      "outputs": [],
      "source": [
        "# Plotting Actual and Prediction results\n",
        "\n",
        "myexplode = [0.0, 0.02, 0.03, 0.0, 0.0]\n",
        "colors = ['#B99095','#FCB5AC','#B5E5CF','#3D5B59', '#29A0B1']\n",
        "labels = ['Good', 'One_bar_broken', 'Two_bar_broken', 'Three_bar_broken', 'Four_bar_broken']\n",
        "fig, (ax1,ax2) = plt.subplots(1,2,figsize=(10,5))\n",
        "ax1.pie(x=data1['count'], autopct=\"%.1f%%\", pctdistance=0.5, startangle = 90, explode=myexplode, colors= colors, radius =1.2)\n",
        "ax1.set_title('Actual')\n",
        "ax2.pie(x=data2['count'], autopct=\"%.1f%%\", pctdistance=0.5, startangle = 90, explode=myexplode, colors= colors, radius=1.2)\n",
        "ax2.set_title('Predicted')\n",
        "fig.legend(labels=labels, loc='lower center', ncol=5)\n",
        "plt.show() #show all figures"
      ]
    },
    {
      "cell_type": "markdown",
      "metadata": {
        "application/vnd.databricks.v1+cell": {
          "inputWidgets": {},
          "nuid": "92094ddf-8f4d-4216-8d77-b9bd1a51b6bb",
          "showTitle": false,
          "title": "After hyperparameter tuning the random forest model accuracy improved from 69% to 71%"
        },
        "id": "81IjDUoltYhD"
      },
      "source": [
        "After hyperparameter tuning the random forest model accuracy improved from 69% to 71%"
      ]
    },
    {
      "cell_type": "markdown",
      "metadata": {
        "application/vnd.databricks.v1+cell": {
          "inputWidgets": {},
          "nuid": "9c6e0899-59af-4e63-b0e2-97da59661483",
          "showTitle": false,
          "title": ""
        },
        "id": "FxZGUDnmtYhD"
      },
      "source": [
        "Neural Network Model"
      ]
    },
    {
      "cell_type": "code",
      "execution_count": null,
      "metadata": {
        "application/vnd.databricks.v1+cell": {
          "inputWidgets": {},
          "nuid": "25c5e893-cfa7-48f6-a50a-5473ac3155dc",
          "showTitle": false,
          "title": ""
        },
        "id": "mMMSvn-TtYhD"
      },
      "outputs": [],
      "source": [
        "# layers for the neural network:\n",
        "# input layer of size 12 (features), Three intermediate of size 15 each, output layer of size 5 (classes)\n",
        "layers = [12, 15, 15, 15, 5]\n",
        "\n",
        "# creating the trainer and setting its parameters\n",
        "trainer = MultilayerPerceptronClassifier(maxIter=250, layers=layers, blockSize=128, seed=42, featuresCol = 'features', labelCol = 'labelIndex')\n",
        "\n",
        "# training the model\n",
        "model = trainer.fit(train)\n",
        "\n",
        "result = model.transform(test)\n",
        "\n",
        "predictionAndLabels = result.select(\"prediction\", \"labelIndex\")\n",
        "\n",
        "evaluator = MulticlassClassificationEvaluator(labelCol=\"labelIndex\", predictionCol=\"prediction\")\n"
      ]
    },
    {
      "cell_type": "code",
      "execution_count": null,
      "metadata": {
        "application/vnd.databricks.v1+cell": {
          "inputWidgets": {},
          "nuid": "f5d28f05-ff83-4c14-bfcd-11d87e88ada1",
          "showTitle": false,
          "title": ""
        },
        "id": "jHlDk6irtYhD",
        "outputId": "f279f0b4-ecc9-4201-9ce8-16653d834fea"
      },
      "outputs": [],
      "source": [
        "# computing accuracy on the test set\n",
        "\n",
        "accuracy = evaluator.evaluate(predictionAndLabels)\n",
        "\n",
        "print(\"Accuracy = %s\" % (accuracy))\n",
        "\n",
        "print(\"Test Error = %s\" % (1.0 - accuracy))"
      ]
    },
    {
      "cell_type": "code",
      "execution_count": null,
      "metadata": {
        "application/vnd.databricks.v1+cell": {
          "inputWidgets": {},
          "nuid": "9c94e8d3-1b9a-4dd4-9f91-a5e81b629518",
          "showTitle": false,
          "title": ""
        },
        "id": "IfZw6ET8tYhD"
      },
      "outputs": [],
      "source": [
        "#Preparing Data for plotting values\n",
        "\n",
        "data1 = predictionAndLabels.groupby(\"labelIndex\").count()\n",
        "data1 = data1.toPandas()\n",
        "data1 = data1.sort_values(by='labelIndex')\n",
        "data2 = predictionAndLabels.groupby(\"prediction\").count()\n",
        "data2 = data2.toPandas()\n",
        "data2 = data2.sort_values(by='prediction')"
      ]
    },
    {
      "cell_type": "markdown",
      "metadata": {
        "application/vnd.databricks.v1+cell": {
          "inputWidgets": {},
          "nuid": "23689e9a-a0b7-44f6-8056-6fe06071b9c1",
          "showTitle": false,
          "title": ""
        },
        "id": "so6dJma-tYhD"
      },
      "source": [
        "Graph of Actual Vs Predicted values derived from Neural Network Multilayer Perceptron Classifier"
      ]
    },
    {
      "cell_type": "code",
      "execution_count": null,
      "metadata": {
        "application/vnd.databricks.v1+cell": {
          "inputWidgets": {},
          "nuid": "5e137b69-a0eb-44ec-87d6-833389470c61",
          "showTitle": false,
          "title": ""
        },
        "id": "lJalQqibtYhD",
        "outputId": "30529304-8622-474a-87d2-c5f35f2db599"
      },
      "outputs": [],
      "source": [
        "# Plotting Actual and Prediction results\n",
        "\n",
        "myexplode = [0.0, 0.02, 0.03, 0.0, 0.0]\n",
        "colors = ['#B99095','#FCB5AC','#B5E5CF','#3D5B59', '#29A0B1']\n",
        "labels = ['Good', 'One_bar_broken', 'Two_bar_broken', 'Three_bar_broken', 'Four_bar_broken']\n",
        "fig, (ax1,ax2) = plt.subplots(1,2,figsize=(10,5))\n",
        "ax1.pie(x=data1['count'], autopct=\"%.1f%%\", pctdistance=0.5, startangle = 90, explode=myexplode, colors= colors, radius =1.2)\n",
        "ax1.set_title('Actual')\n",
        "ax2.pie(x=data2['count'], autopct=\"%.1f%%\", pctdistance=0.5, startangle = 90, explode=myexplode, colors= colors, radius=1.2)\n",
        "ax2.set_title('Predicted')\n",
        "fig.legend(labels=labels, loc='lower center', ncol=5)\n",
        "plt.show() #show all figures"
      ]
    },
    {
      "cell_type": "markdown",
      "metadata": {
        "application/vnd.databricks.v1+cell": {
          "inputWidgets": {},
          "nuid": "b1850b0e-0f6a-49e5-9f80-e2f0bf2c3587",
          "showTitle": false,
          "title": ""
        },
        "id": "I_JA_KcYtYhD"
      },
      "source": [
        "5.0 Autoassociative neural network"
      ]
    },
    {
      "cell_type": "code",
      "execution_count": null,
      "metadata": {
        "application/vnd.databricks.v1+cell": {
          "inputWidgets": {},
          "nuid": "efce3f84-2b3c-42fc-a3eb-dc52c27d88e7",
          "showTitle": false,
          "title": ""
        },
        "id": "6pQGAzvptYhE"
      },
      "outputs": [],
      "source": [
        "# layers for the neural network:\n",
        "# input layer of size 12 (features), three intermediate of size 15, 10, 15 respectively, output layer of size 5 (classes)\n",
        "layers_1 = [12, 15, 10, 15, 5]\n",
        "\n",
        "# creating the trainer and setting its parameters\n",
        "trainer_1 = MultilayerPerceptronClassifier(maxIter=250, layers=layers_1, blockSize=128, seed=42, featuresCol = 'features', labelCol = 'labelIndex')\n",
        "\n",
        "# training the model\n",
        "model_1 = trainer_1.fit(train)\n",
        "\n",
        "result_1 = model_1.transform(test)\n",
        "\n",
        "predictionAndLabels_1 = result_1.select(\"prediction\", \"labelIndex\")\n",
        "\n",
        "evaluator_1 = MulticlassClassificationEvaluator(labelCol=\"labelIndex\", predictionCol=\"prediction\")\n"
      ]
    },
    {
      "cell_type": "code",
      "execution_count": null,
      "metadata": {
        "application/vnd.databricks.v1+cell": {
          "inputWidgets": {},
          "nuid": "019d9426-0e24-417a-bf55-0064c4c95a39",
          "showTitle": false,
          "title": ""
        },
        "id": "ofRZUzi4tYhE",
        "outputId": "afb0b108-ab18-4819-b427-aa0e206879aa"
      },
      "outputs": [],
      "source": [
        "# Computing accuracy on the test set\n",
        "\n",
        "accuracy_1 = evaluator_1.evaluate(predictionAndLabels_1)\n",
        "\n",
        "print(\"Accuracy = %s\" % (accuracy_1))\n",
        "\n",
        "print(\"Test Error = %s\" % (1.0 - accuracy_1))"
      ]
    },
    {
      "cell_type": "code",
      "execution_count": null,
      "metadata": {
        "application/vnd.databricks.v1+cell": {
          "inputWidgets": {},
          "nuid": "eb52b8f4-baf9-4339-bc3a-a19399d514ba",
          "showTitle": false,
          "title": ""
        },
        "id": "SSTN_j7QtYhE"
      },
      "outputs": [],
      "source": [
        "#Preparing Data for plotting values\n",
        "\n",
        "data1 = predictionAndLabels_1.groupby(\"labelIndex\").count()\n",
        "data1 = data1.toPandas()\n",
        "data1 = data1.sort_values(by='labelIndex')\n",
        "data2 = predictionAndLabels_1.groupby(\"prediction\").count()\n",
        "data2 = data2.toPandas()\n",
        "data2 = data2.sort_values(by='prediction')"
      ]
    },
    {
      "cell_type": "markdown",
      "metadata": {
        "application/vnd.databricks.v1+cell": {
          "inputWidgets": {},
          "nuid": "726c0cc8-7dbe-456c-8eb6-f3e9438778b9",
          "showTitle": false,
          "title": ""
        },
        "id": "Kq9OUPkgtYhE"
      },
      "source": [
        "Graph of Actual Vs Predicted values derived from Auto Associative Neural Network (Multilayer Perceptron Classifier)"
      ]
    },
    {
      "cell_type": "code",
      "execution_count": null,
      "metadata": {
        "application/vnd.databricks.v1+cell": {
          "inputWidgets": {},
          "nuid": "dd8b567f-1fa9-4e56-8d36-6eeed846a00b",
          "showTitle": false,
          "title": ""
        },
        "id": "NNjlyPbDtYhE",
        "outputId": "ce94edfb-9f91-44e4-9008-93c7c4181ae1"
      },
      "outputs": [],
      "source": [
        "# Plotting Actual and Prediction results\n",
        "\n",
        "myexplode = [0.0, 0.02, 0.03, 0.0, 0.0]\n",
        "colors = ['#B99095','#FCB5AC','#B5E5CF','#3D5B59', '#29A0B1']\n",
        "labels = ['Good', 'One_bar_broken', 'Two_bar_broken', 'Three_bar_broken', 'Four_bar_broken']\n",
        "fig, (ax1,ax2) = plt.subplots(1,2,figsize=(10,5))\n",
        "ax1.pie(x=data1['count'], autopct=\"%.1f%%\", pctdistance=0.5, startangle = 90, explode=myexplode, colors= colors, radius =1.2)\n",
        "ax1.set_title('Actual')\n",
        "ax2.pie(x=data2['count'], autopct=\"%.1f%%\", pctdistance=0.5, startangle = 90, explode=myexplode, colors= colors, radius=1.2)\n",
        "ax2.set_title('Predicted')\n",
        "fig.legend(labels=labels, loc='lower center', ncol=5)\n",
        "plt.show() #show all figures"
      ]
    },
    {
      "cell_type": "markdown",
      "metadata": {
        "application/vnd.databricks.v1+cell": {
          "inputWidgets": {},
          "nuid": "3fe8c61d-5f3d-423d-ba8f-8181d7b314be",
          "showTitle": false,
          "title": ""
        },
        "id": "j-rmcceWtYhE"
      },
      "source": [
        "Different Models Comparision"
      ]
    },
    {
      "cell_type": "code",
      "execution_count": null,
      "metadata": {
        "application/vnd.databricks.v1+cell": {
          "inputWidgets": {},
          "nuid": "812aa9c1-0342-436b-a47d-7481ccd0bdcf",
          "showTitle": false,
          "title": ""
        },
        "id": "1T2FHv7RtYhE",
        "outputId": "9f6fdbcc-3467-4907-ef87-65cff2c5cf10"
      },
      "outputs": [],
      "source": [
        "Models = ['RandomForestClassifier', 'DecisionTreeClassifier', 'CrossValidator(RF)', 'MultilayerPerceptronClassifier', 'MultilayerPerceptronClassifier_AutoAssociative']\n",
        "Accuracy = [67.7, 81.0, 71.8, 77.6, 76.7]\n",
        "fig = plt.figure(figsize=(15,5))\n",
        "ax = fig.add_axes([0,0,1,1])\n",
        "bar_graph = ax.bar(Models, Accuracy, color='royalblue')\n",
        "for p in bar_graph:\n",
        "  height = p.get_height()\n",
        "  ax.text(x=p.get_x() + p.get_width() / 2, y=height+.80,\n",
        "      s=\"{}%\".format(height),\n",
        "      ha='center')\n",
        "\n",
        "font1 = {'family':'serif','color':'royalblue','size':15}\n",
        "font2 = {'family':'serif','color':'royalblue','size':15}\n",
        "\n",
        "plt.xlabel(\"Models\", fontdict = font1)\n",
        "plt.ylabel(\"Accuracy Percentage\", fontdict = font1)\n",
        "plt.title(\"Different Models Accuracy Comparision\", loc = 'left')\n",
        "plt.show()"
      ]
    },
    {
      "cell_type": "code",
      "execution_count": null,
      "metadata": {
        "application/vnd.databricks.v1+cell": {
          "inputWidgets": {},
          "nuid": "aa4a3098-3f8c-4b52-a64a-447de2536f54",
          "showTitle": false,
          "title": ""
        },
        "id": "vk5zlrbftYhE",
        "outputId": "f5ecae8a-5485-4061-d5ff-417dadb781f8"
      },
      "outputs": [],
      "source": []
    }
  ],
  "metadata": {
    "application/vnd.databricks.v1+notebook": {
      "dashboards": [],
      "language": "python",
      "notebookMetadata": {
        "pythonIndentUnit": 2
      },
      "notebookName": "603_Project_Predictive_Maintenance_Saranedit",
      "notebookOrigID": 2615626076304049,
      "widgets": {}
    },
    "colab": {
      "collapsed_sections": [],
      "name": "603_Project_Predictive_Maintenance_Saranedit (1).ipynb",
      "provenance": []
    },
    "language_info": {
      "name": "python"
    }
  },
  "nbformat": 4,
  "nbformat_minor": 0
}
